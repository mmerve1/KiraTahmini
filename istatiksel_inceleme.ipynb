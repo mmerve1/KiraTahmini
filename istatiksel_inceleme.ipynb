{
 "cells": [
  {
   "cell_type": "markdown",
   "metadata": {},
   "source": [
    "## Verilerin İstatiksel Olarak İncelenmesi Ve Aykırı Değerlerin Ayıklanması"
   ]
  },
  {
   "cell_type": "markdown",
   "metadata": {},
   "source": []
  },
  {
   "cell_type": "code",
   "execution_count": 21,
   "metadata": {},
   "outputs": [],
   "source": [
    "import numpy as np\n",
    "import pandas as pd\n",
    "import matplotlib.pyplot as plt"
   ]
  },
  {
   "cell_type": "code",
   "execution_count": 22,
   "metadata": {},
   "outputs": [],
   "source": [
    "df =pd.read_csv('data.csv')"
   ]
  },
  {
   "cell_type": "code",
   "execution_count": 23,
   "metadata": {},
   "outputs": [
    {
     "name": "stdout",
     "output_type": "stream",
     "text": [
      "<class 'pandas.core.frame.DataFrame'>\n",
      "RangeIndex: 37 entries, 0 to 36\n",
      "Data columns (total 9 columns):\n",
      " #   Column       Non-Null Count  Dtype \n",
      "---  ------       --------------  ----- \n",
      " 0   city         37 non-null     object\n",
      " 1   district     37 non-null     object\n",
      " 2   neigborhood  37 non-null     object\n",
      " 3   room         37 non-null     int64 \n",
      " 4   living_room  37 non-null     int64 \n",
      " 5   area         37 non-null     int64 \n",
      " 6   age          37 non-null     int64 \n",
      " 7   floor        37 non-null     int64 \n",
      " 8   price        37 non-null     int64 \n",
      "dtypes: int64(6), object(3)\n",
      "memory usage: 2.7+ KB\n",
      "None\n"
     ]
    }
   ],
   "source": [
    "print(df.info())"
   ]
  },
  {
   "cell_type": "code",
   "execution_count": 24,
   "metadata": {},
   "outputs": [],
   "source": [
    "df['city']=df['city'].astype('category')\n",
    "df['district']=df['district'].astype('category')\n",
    "df['neigborhood']=df['neigborhood'].astype('category')\n",
    "df['room']=df['room'].astype('int')\n",
    "df['living_room']=df['living_room'].astype('int')\n",
    "df['area']=df['area'].astype('int')\n",
    "df['floor']=df['floor'].astype('int')\n",
    "df['age']=df['age'].astype('int')\n",
    "df['price']=df['price'].astype('int')\n"
   ]
  },
  {
   "cell_type": "code",
   "execution_count": 25,
   "metadata": {},
   "outputs": [
    {
     "name": "stdout",
     "output_type": "stream",
     "text": [
      "<class 'pandas.core.frame.DataFrame'>\n",
      "RangeIndex: 37 entries, 0 to 36\n",
      "Data columns (total 9 columns):\n",
      " #   Column       Non-Null Count  Dtype   \n",
      "---  ------       --------------  -----   \n",
      " 0   city         37 non-null     category\n",
      " 1   district     37 non-null     category\n",
      " 2   neigborhood  37 non-null     category\n",
      " 3   room         37 non-null     int64   \n",
      " 4   living_room  37 non-null     int64   \n",
      " 5   area         37 non-null     int64   \n",
      " 6   age          37 non-null     int64   \n",
      " 7   floor        37 non-null     int64   \n",
      " 8   price        37 non-null     int64   \n",
      "dtypes: category(3), int64(6)\n",
      "memory usage: 4.3 KB\n",
      "None\n"
     ]
    }
   ],
   "source": [
    "print(df.info())"
   ]
  },
  {
   "cell_type": "code",
   "execution_count": 26,
   "metadata": {},
   "outputs": [
    {
     "name": "stdout",
     "output_type": "stream",
     "text": [
      "Column: room, min: 0.5, max: 4.5\n",
      "Column: living_room, min: 1.0, max: 1.0\n",
      "Column: area, min: 2.5, max: 222.5\n",
      "Column: age, min: -10.5, max: 25.5\n",
      "Column: floor, min: -5.0, max: 11.0\n",
      "Column: price, min: -2150.0, max: 4170.0\n"
     ]
    }
   ],
   "source": [
    "#nümerik degerlerin min,max ve ceyreklik degerlerin bulunması \n",
    "#bu aykırı degerlerin bulunmasını saglayacak\n",
    "\n",
    "columns =df.select_dtypes(include=[np.number]).columns\n",
    "min_values=[]\n",
    "max_values=[]\n",
    "\n",
    "for column in columns:\n",
    "    Q1 = df[column].quantile(0.25)\n",
    "    Q3 = df[column].quantile(0.75)\n",
    "    IQR =Q3-Q1\n",
    "    min_value= Q1 -1.5 * IQR  #genel kabul\n",
    "    max_value = Q3 +1.5 * IQR\n",
    "    min_values.append(min_value)\n",
    "    max_values.append(max_value)\n",
    "    print(f\"Column: {column}, min: {min_value}, max: {max_value}\")\n",
    "    \n",
    "\n"
   ]
  },
  {
   "cell_type": "code",
   "execution_count": 28,
   "metadata": {},
   "outputs": [],
   "source": [
    "for i, column in enumerate(columns):\n",
    "    df =df[(df[column] >= min_values[i]) &(df[column] <= max_values[i]) ]\n",
    "    "
   ]
  },
  {
   "cell_type": "code",
   "execution_count": 29,
   "metadata": {},
   "outputs": [
    {
     "name": "stdout",
     "output_type": "stream",
     "text": [
      "<class 'pandas.core.frame.DataFrame'>\n",
      "Index: 25 entries, 1 to 32\n",
      "Data columns (total 9 columns):\n",
      " #   Column       Non-Null Count  Dtype   \n",
      "---  ------       --------------  -----   \n",
      " 0   city         25 non-null     category\n",
      " 1   district     25 non-null     category\n",
      " 2   neigborhood  25 non-null     category\n",
      " 3   room         25 non-null     int64   \n",
      " 4   living_room  25 non-null     int64   \n",
      " 5   area         25 non-null     int64   \n",
      " 6   age          25 non-null     int64   \n",
      " 7   floor        25 non-null     int64   \n",
      " 8   price        25 non-null     int64   \n",
      "dtypes: category(3), int64(6)\n",
      "memory usage: 3.7 KB\n",
      "None\n"
     ]
    }
   ],
   "source": [
    "print(df.info())"
   ]
  },
  {
   "cell_type": "code",
   "execution_count": 30,
   "metadata": {},
   "outputs": [
    {
     "name": "stdout",
     "output_type": "stream",
     "text": [
      "            room  living_room        area        age      floor        price\n",
      "count  25.000000         25.0   25.000000  25.000000  25.000000    25.000000\n",
      "mean    1.960000          1.0  103.840000   6.200000   2.920000   867.600000\n",
      "std     0.840635          0.0   40.915238   6.506407   2.307957   991.967867\n",
      "min     1.000000          1.0   40.000000   0.000000  -1.000000   100.000000\n",
      "25%     1.000000          1.0   70.000000   1.000000   2.000000   220.000000\n",
      "50%     2.000000          1.0  100.000000   4.000000   2.000000   300.000000\n",
      "75%     2.000000          1.0  140.000000  11.000000   5.000000  1500.000000\n",
      "max     4.000000          1.0  200.000000  25.000000   7.000000  3500.000000\n"
     ]
    }
   ],
   "source": [
    "print(df.describe())"
   ]
  },
  {
   "cell_type": "code",
   "execution_count": 31,
   "metadata": {},
   "outputs": [],
   "source": [
    "df.to_csv('data_cleaned.csv',index=False)"
   ]
  },
  {
   "cell_type": "code",
   "execution_count": null,
   "metadata": {},
   "outputs": [],
   "source": []
  }
 ],
 "metadata": {
  "kernelspec": {
   "display_name": "Python 3",
   "language": "python",
   "name": "python3"
  },
  "language_info": {
   "codemirror_mode": {
    "name": "ipython",
    "version": 3
   },
   "file_extension": ".py",
   "mimetype": "text/x-python",
   "name": "python",
   "nbconvert_exporter": "python",
   "pygments_lexer": "ipython3",
   "version": "3.13.1"
  }
 },
 "nbformat": 4,
 "nbformat_minor": 2
}
